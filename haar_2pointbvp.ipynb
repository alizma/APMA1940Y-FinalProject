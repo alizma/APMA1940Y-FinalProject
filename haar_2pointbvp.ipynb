{
 "cells": [
  {
   "cell_type": "code",
   "execution_count": 1,
   "metadata": {},
   "outputs": [],
   "source": [
    "from haar import haar\n",
    "from pi2 import pi2 \n",
    "from pi1 import pi1\n",
    "\n",
    "import numpy as np \n",
    "\n",
    "from scipy import integrate\n",
    "import scipy\n",
    "from scipy.linalg import lstsq, solve\n",
    "\n",
    "import matplotlib as mpl\n",
    "import matplotlib.pyplot as plt \n",
    "\n",
    "\n",
    "mpl.style.use('seaborn')"
   ]
  },
  {
   "cell_type": "code",
   "execution_count": null,
   "metadata": {},
   "outputs": [],
   "source": [
    "def wavelet_solve_ex6(J): \n",
    "    N = 2**(J + 1) \n",
    "    j = np.arange(0, N)\n",
    "    x = (j - 0.5) / N\n",
    "\n",
    "    alpha1 = 0.\n",
    "    beta1 = -1.\n",
    "    a1 = beta1 - alpha1 \n",
    "\n",
    "    W = np.zeros((N, N)) \n",
    "    f = np.zeros((N, )) \n",
    "    a = np.zeros((N, ))\n",
    "\n",
    "    eps = 1.e-6\n",
    "    r = np.ones((N, 1))\n",
    "\n",
    "    iter_idx = 0 \n",
    "\n",
    "    while max(r) > eps: \n",
    "        #for j in range(N): \n",
    "        #    H = P1 = P2 = 0 \n",
    "        H = np.zeros((N, ))\n",
    "        P1 = np.zeros((N, ))\n",
    "        P2 = np.zeros((N, ))\n",
    "\n",
    "        for i in range(N): \n",
    "            H += a[i] * haar(x, i+1, J) \n",
    "            P1 += a[i] * pi1(x, i+1, J)             \n",
    "            P2 += a[i] * pi2(x, i+1, J) \n",
    "\n",
    "        #print(H.shape, P1.shape, P2.shape)\n",
    "        #print(f.shape)\n",
    "        f = 2 * (alpha1 + beta1 * x + P2) * (beta1 + P1) + H \n",
    "        #print(f.shape)\n",
    "\n",
    "        for k in range(N): \n",
    "            W[:, k] = 2 * pi2(x, k+1, J) * (beta1 + P1) + 2 * (alpha1 + beta1 + x + P2) * pi1(x, k+1, J)  + haar(x, k+1, J) \n",
    "\n",
    "        #print(W.shape, (W@a).shape, f.shape)\n",
    "        a_new = np.linalg.pinv(W) @ (W@a - f)\n",
    "        #print(np.linalg.pinv(W).shape, (W@a - f).shape)\n",
    "        #print(a_new.shape)\n",
    "        #a_new = lstsq(W, W@a - f, cond=None)[0]\n",
    "        #a_new = solve(W, W@a - f) # singularities \n",
    "        #a_new = scipy.linalg.inv(W) @ (W@a - f)\n",
    "        #print(a_new.shape)\n",
    "        r = np.abs(a_new - a) \n",
    "        #print(r.shape)\n",
    "        print(max(r)) \n",
    "\n",
    "        a = a_new \n",
    "        iter_idx += 1\n",
    "\n",
    "\n",
    "    y = np.zeros((N, ))\n",
    "    S = np.zeros((N, ))\n",
    "\n",
    "    for i in range(N): \n",
    "        S += a[i] * pi2(x, i+1, J)\n",
    "\n",
    "    y = alpha1 + x * beta1 + S \n",
    "\n",
    "    return y, x\n"
   ]
  },
  {
   "cell_type": "code",
   "execution_count": 2,
   "metadata": {},
   "outputs": [
    {
     "ename": "SyntaxError",
     "evalue": "incomplete input (3198633138.py, line 1)",
     "output_type": "error",
     "traceback": [
      "\u001b[0;36m  Input \u001b[0;32mIn [2]\u001b[0;36m\u001b[0m\n\u001b[0;31m    def _integrator():\u001b[0m\n\u001b[0m                       ^\u001b[0m\n\u001b[0;31mSyntaxError\u001b[0m\u001b[0;31m:\u001b[0m incomplete input\n"
     ]
    }
   ],
   "source": [
    "def L2_error(approx, exact): \n",
    "    return np.sqrt(1 / len(approx) * np.sum((exact-approx)**2)) \n",
    "\n",
    "yexact = lambda x : (x**3 - 4/3*x**2 + x/3) * np.sin(2*np.pi*x)\n",
    "# y'(1) = 0\n",
    "\n",
    "def _integrator(): "
   ]
  },
  {
   "cell_type": "code",
   "execution_count": null,
   "metadata": {},
   "outputs": [],
   "source": []
  }
 ],
 "metadata": {
  "kernelspec": {
   "display_name": "py-pde",
   "language": "python",
   "name": "python3"
  },
  "language_info": {
   "codemirror_mode": {
    "name": "ipython",
    "version": 3
   },
   "file_extension": ".py",
   "mimetype": "text/x-python",
   "name": "python",
   "nbconvert_exporter": "python",
   "pygments_lexer": "ipython3",
   "version": "3.10.9"
  },
  "orig_nbformat": 4
 },
 "nbformat": 4,
 "nbformat_minor": 2
}
