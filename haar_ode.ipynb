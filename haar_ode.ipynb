{
 "cells": [
  {
   "cell_type": "code",
   "execution_count": 8,
   "metadata": {},
   "outputs": [],
   "source": [
    "from haar import haar\n",
    "from pi2 import pi2 \n",
    "from pi1 import pi1\n",
    "\n",
    "import numpy as np \n",
    "\n",
    "from scipy import integrate\n",
    "import scipy\n",
    "from scipy.linalg import lstsq, solve\n",
    "\n",
    "import matplotlib as mpl\n",
    "import matplotlib.pyplot as plt \n",
    "\n",
    "from numba import njit, prange\n",
    "\n",
    "mpl.style.use('seaborn')"
   ]
  },
  {
   "cell_type": "code",
   "execution_count": 9,
   "metadata": {},
   "outputs": [],
   "source": [
    "# y''(x) = -2 y(x) y'(x); y(0) = 0, y'(0) = -1\n",
    "#@njit(parallel=True)\n",
    "def wavelet_solve(J): \n",
    "    N = 2**(J + 1) \n",
    "    j = np.arange(0, N)\n",
    "    x = (j - 0.5) / N\n",
    "\n",
    "    alpha1 = 0.\n",
    "    beta1 = -1.\n",
    "    a1 = beta1 - alpha1 \n",
    "\n",
    "    W = np.zeros((N, N)) \n",
    "    f = np.zeros((N, )) \n",
    "    a = np.zeros((N, ))\n",
    "\n",
    "    eps = 1.e-6\n",
    "    r = np.ones((N, 1))\n",
    "\n",
    "    iter_idx = 0 \n",
    "\n",
    "    while max(r) > eps: \n",
    "        #for j in range(N): \n",
    "        #    H = P1 = P2 = 0 \n",
    "        H = np.zeros((N, ))\n",
    "        P1 = np.zeros((N, ))\n",
    "        P2 = np.zeros((N, ))\n",
    "\n",
    "        for i in prange(N): \n",
    "            H += a[i] * haar(x, i+1, J) \n",
    "            P1 += a[i] * pi1(x, i+1, J)             \n",
    "            P2 += a[i] * pi2(x, i+1, J) \n",
    "\n",
    "        #print(H.shape, P1.shape, P2.shape)\n",
    "        #print(f.shape)\n",
    "        f = 2 * (alpha1 + beta1 * x + P2) * (beta1 + P1) + H \n",
    "        #print(f.shape)\n",
    "\n",
    "        for k in prange(N): \n",
    "            W[:, k] = 2 * pi2(x, k+1, J) * (beta1 + P1) + 2 * (alpha1 + beta1 + x + P2) * pi1(x, k+1, J)  + haar(x, k+1, J) \n",
    "\n",
    "        #print(W.shape, (W@a).shape, f.shape)\n",
    "        a_new = np.linalg.pinv(W) @ (W@a - f)\n",
    "        #print(np.linalg.pinv(W).shape, (W@a - f).shape)\n",
    "        #print(a_new.shape)\n",
    "        #a_new = lstsq(W, W@a - f, cond=None)[0]\n",
    "        #a_new = solve(W, W@a - f) # singularities \n",
    "        #a_new = scipy.linalg.inv(W) @ (W@a - f)\n",
    "        #print(a_new.shape)\n",
    "        r = np.abs(a_new - a) \n",
    "        #print(r.shape)\n",
    "        print(max(r)) \n",
    "\n",
    "        a = a_new \n",
    "        iter_idx += 1\n",
    "\n",
    "\n",
    "    y = np.zeros((N, ))\n",
    "    S = np.zeros((N, ))\n",
    "\n",
    "    for i in range(N): \n",
    "        S += a[i] * pi2(x, i+1, J)\n",
    "\n",
    "    y = alpha1 + x * beta1 + S \n",
    "\n",
    "    return y, x\n"
   ]
  },
  {
   "cell_type": "code",
   "execution_count": null,
   "metadata": {},
   "outputs": [],
   "source": [
    "def wavelet_solve_ex6(J): \n",
    "    N = 2**(J + 1) \n",
    "    j = np.arange(0, N)\n",
    "    x = (j - 0.5) / N\n",
    "\n",
    "    alpha1 = 0.\n",
    "    beta1 = -1.\n",
    "    a1 = beta1 - alpha1 \n",
    "\n",
    "    W = np.zeros((N, N)) \n",
    "    f = np.zeros((N, )) \n",
    "    a = np.zeros((N, ))\n",
    "\n",
    "    eps = 1.e-6\n",
    "    r = np.ones((N, 1))\n",
    "\n",
    "    iter_idx = 0 \n",
    "\n",
    "    while max(r) > eps: \n",
    "        #for j in range(N): \n",
    "        #    H = P1 = P2 = 0 \n",
    "        H = np.zeros((N, ))\n",
    "        P1 = np.zeros((N, ))\n",
    "        P2 = np.zeros((N, ))\n",
    "\n",
    "        for i in prange(N): \n",
    "            H += a[i] * haar(x, i+1, J) \n",
    "            P1 += a[i] * pi1(x, i+1, J)             \n",
    "            P2 += a[i] * pi2(x, i+1, J) \n",
    "\n",
    "        #print(H.shape, P1.shape, P2.shape)\n",
    "        #print(f.shape)\n",
    "        f = 2 * (alpha1 + beta1 * x + P2) * (beta1 + P1) + H \n",
    "        #print(f.shape)\n",
    "\n",
    "        for k in prange(N): \n",
    "            W[:, k] = 2 * pi2(x, k+1, J) * (beta1 + P1) + 2 * (alpha1 + beta1 + x + P2) * pi1(x, k+1, J)  + haar(x, k+1, J) \n",
    "\n",
    "        #print(W.shape, (W@a).shape, f.shape)\n",
    "        a_new = np.linalg.pinv(W) @ (W@a - f)\n",
    "        #print(np.linalg.pinv(W).shape, (W@a - f).shape)\n",
    "        #print(a_new.shape)\n",
    "        #a_new = lstsq(W, W@a - f, cond=None)[0]\n",
    "        #a_new = solve(W, W@a - f) # singularities \n",
    "        #a_new = scipy.linalg.inv(W) @ (W@a - f)\n",
    "        #print(a_new.shape)\n",
    "        r = np.abs(a_new - a) \n",
    "        #print(r.shape)\n",
    "        print(max(r)) \n",
    "\n",
    "        a = a_new \n",
    "        iter_idx += 1\n",
    "\n",
    "\n",
    "    y = np.zeros((N, ))\n",
    "    S = np.zeros((N, ))\n",
    "\n",
    "    for i in range(N): \n",
    "        S += a[i] * pi2(x, i+1, J)\n",
    "\n",
    "    y = alpha1 + x * beta1 + S \n",
    "\n",
    "    return y, x\n"
   ]
  },
  {
   "cell_type": "code",
   "execution_count": 10,
   "metadata": {},
   "outputs": [],
   "source": [
    "def L2_error(approx, exact): \n",
    "    return np.sqrt(1 / len(approx) * np.sum((exact-approx)**2)) \n",
    "\n",
    "def _integrator(t, Y): \n",
    "    return [Y[1], -2*Y[0]*Y[1]]"
   ]
  },
  {
   "cell_type": "code",
   "execution_count": 7,
   "metadata": {},
   "outputs": [
    {
     "ename": "TypingError",
     "evalue": "Failed in nopython mode pipeline (step: nopython frontend)\n\u001b[1mUntyped global name 'haar':\u001b[0m \u001b[1m\u001b[1mCannot determine Numba type of <class 'function'>\u001b[0m\n\u001b[1m\nFile \"../../../../tmp/ipykernel_209927/2750145514.py\", line 28:\u001b[0m\n\u001b[1m<source missing, REPL/exec in use?>\u001b[0m\n\u001b[0m",
     "output_type": "error",
     "traceback": [
      "\u001b[0;31m---------------------------------------------------------------------------\u001b[0m",
      "\u001b[0;31mTypingError\u001b[0m                               Traceback (most recent call last)",
      "\u001b[1;32m/home/ai/Documents/APMA1940Y-FinalProject/haar_ode.ipynb Cell 4\u001b[0m in \u001b[0;36m<cell line: 6>\u001b[0;34m()\u001b[0m\n\u001b[1;32m      <a href='vscode-notebook-cell:/home/ai/Documents/APMA1940Y-FinalProject/haar_ode.ipynb#X25sZmlsZQ%3D%3D?line=2'>3</a>\u001b[0m j \u001b[39m=\u001b[39m np\u001b[39m.\u001b[39marange(\u001b[39m0\u001b[39m, N)\n\u001b[1;32m      <a href='vscode-notebook-cell:/home/ai/Documents/APMA1940Y-FinalProject/haar_ode.ipynb#X25sZmlsZQ%3D%3D?line=3'>4</a>\u001b[0m x \u001b[39m=\u001b[39m (j \u001b[39m-\u001b[39m \u001b[39m0.5\u001b[39m) \u001b[39m/\u001b[39m N\n\u001b[0;32m----> <a href='vscode-notebook-cell:/home/ai/Documents/APMA1940Y-FinalProject/haar_ode.ipynb#X25sZmlsZQ%3D%3D?line=5'>6</a>\u001b[0m y, x \u001b[39m=\u001b[39m wavelet_solve(J)\n",
      "File \u001b[0;32m~/miniconda3/envs/py-pde/lib/python3.10/site-packages/numba/core/dispatcher.py:468\u001b[0m, in \u001b[0;36m_DispatcherBase._compile_for_args\u001b[0;34m(self, *args, **kws)\u001b[0m\n\u001b[1;32m    464\u001b[0m         msg \u001b[39m=\u001b[39m (\u001b[39mf\u001b[39m\u001b[39m\"\u001b[39m\u001b[39m{\u001b[39;00m\u001b[39mstr\u001b[39m(e)\u001b[39m.\u001b[39mrstrip()\u001b[39m}\u001b[39;00m\u001b[39m \u001b[39m\u001b[39m\\n\u001b[39;00m\u001b[39m\\n\u001b[39;00m\u001b[39mThis error may have been caused \u001b[39m\u001b[39m\"\u001b[39m\n\u001b[1;32m    465\u001b[0m                \u001b[39mf\u001b[39m\u001b[39m\"\u001b[39m\u001b[39mby the following argument(s):\u001b[39m\u001b[39m\\n\u001b[39;00m\u001b[39m{\u001b[39;00margs_str\u001b[39m}\u001b[39;00m\u001b[39m\\n\u001b[39;00m\u001b[39m\"\u001b[39m)\n\u001b[1;32m    466\u001b[0m         e\u001b[39m.\u001b[39mpatch_message(msg)\n\u001b[0;32m--> 468\u001b[0m     error_rewrite(e, \u001b[39m'\u001b[39;49m\u001b[39mtyping\u001b[39;49m\u001b[39m'\u001b[39;49m)\n\u001b[1;32m    469\u001b[0m \u001b[39mexcept\u001b[39;00m errors\u001b[39m.\u001b[39mUnsupportedError \u001b[39mas\u001b[39;00m e:\n\u001b[1;32m    470\u001b[0m     \u001b[39m# Something unsupported is present in the user code, add help info\u001b[39;00m\n\u001b[1;32m    471\u001b[0m     error_rewrite(e, \u001b[39m'\u001b[39m\u001b[39munsupported_error\u001b[39m\u001b[39m'\u001b[39m)\n",
      "File \u001b[0;32m~/miniconda3/envs/py-pde/lib/python3.10/site-packages/numba/core/dispatcher.py:409\u001b[0m, in \u001b[0;36m_DispatcherBase._compile_for_args.<locals>.error_rewrite\u001b[0;34m(e, issue_type)\u001b[0m\n\u001b[1;32m    407\u001b[0m     \u001b[39mraise\u001b[39;00m e\n\u001b[1;32m    408\u001b[0m \u001b[39melse\u001b[39;00m:\n\u001b[0;32m--> 409\u001b[0m     \u001b[39mraise\u001b[39;00m e\u001b[39m.\u001b[39mwith_traceback(\u001b[39mNone\u001b[39;00m)\n",
      "\u001b[0;31mTypingError\u001b[0m: Failed in nopython mode pipeline (step: nopython frontend)\n\u001b[1mUntyped global name 'haar':\u001b[0m \u001b[1m\u001b[1mCannot determine Numba type of <class 'function'>\u001b[0m\n\u001b[1m\nFile \"../../../../tmp/ipykernel_209927/2750145514.py\", line 28:\u001b[0m\n\u001b[1m<source missing, REPL/exec in use?>\u001b[0m\n\u001b[0m"
     ]
    }
   ],
   "source": [
    "J = 8\n",
    "N = 2**(J + 1) \n",
    "j = np.arange(0, N)\n",
    "x = (j - 0.5) / N\n",
    "\n",
    "y, x = wavelet_solve(J) "
   ]
  },
  {
   "cell_type": "code",
   "execution_count": 168,
   "metadata": {},
   "outputs": [
    {
     "data": {
      "text/plain": [
       "5.40188012069045e-06"
      ]
     },
     "execution_count": 168,
     "metadata": {},
     "output_type": "execute_result"
    }
   ],
   "source": [
    "yexact = - np.tan(x) \n",
    "L2_error(y, yexact)"
   ]
  },
  {
   "cell_type": "code",
   "execution_count": 173,
   "metadata": {},
   "outputs": [
    {
     "data": {
      "text/plain": [
       "1.3643004767840866e-06"
      ]
     },
     "execution_count": 173,
     "metadata": {},
     "output_type": "execute_result"
    }
   ],
   "source": [
    "yexact = - np.tan(x) \n",
    "L2_error(y, yexact)"
   ]
  },
  {
   "cell_type": "code",
   "execution_count": 140,
   "metadata": {},
   "outputs": [
    {
     "data": {
      "text/plain": [
       "(256,)"
      ]
     },
     "execution_count": 140,
     "metadata": {},
     "output_type": "execute_result"
    }
   ],
   "source": [
    "x.shape"
   ]
  },
  {
   "cell_type": "code",
   "execution_count": 13,
   "metadata": {},
   "outputs": [
    {
     "name": "stdout",
     "output_type": "stream",
     "text": [
      "0.9985791072470034\n",
      "0.18569165484283634\n",
      "0.02255954930820714\n",
      "0.004083422765088551\n",
      "0.0008688054887087127\n",
      "0.0002015314968588089\n",
      "4.914097489061575e-05\n",
      "1.1943746257792043e-05\n",
      "2.9369485474717294e-06\n",
      "7.196143259058374e-07\n",
      "1.2947689894170527\n",
      "0.4791238952313336\n",
      "0.08656577659943765\n",
      "0.010916153607159251\n",
      "0.0010508745616775172\n",
      "0.00010233722282126934\n",
      "8.447596741456564e-06\n",
      "8.037977143882102e-07\n",
      "1.4000387775935448\n",
      "0.8985271372922554\n",
      "0.20164412292959755\n",
      "0.02877314224050964\n",
      "0.0035736835619349927\n",
      "0.00034233788885085215\n",
      "2.8984394100928235e-05\n",
      "2.1457028270832623e-06\n",
      "1.507471212303102e-07\n",
      "1.4322930639821194\n",
      "1.0944642809789709\n",
      "0.31636078416332236\n",
      "0.05558901439729058\n",
      "0.006908358855294061\n",
      "0.0006592132278917529\n",
      "5.285416761169337e-05\n",
      "3.7974886092362325e-06\n",
      "2.557170909467388e-07\n",
      "1.441620683074156\n",
      "1.170012578872569\n",
      "0.3843113620189573\n",
      "0.06954552978605322\n",
      "0.008927726761462695\n",
      "0.000990446328732797\n",
      "8.867675017598664e-05\n",
      "6.671556566639758e-06\n",
      "4.342804803547651e-07\n",
      "1.4442454613966924\n",
      "1.196086240470772\n",
      "0.410447684724381\n",
      "0.0753732016662696\n",
      "0.010734563847458523\n",
      "0.0011994190725650444\n",
      "0.00010808474950163571\n",
      "8.169888272346881e-06\n",
      "5.328649532732044e-07\n",
      "1.4449724064533254\n",
      "1.2044752436715922\n",
      "0.4194704494553103\n",
      "0.07749319912425556\n",
      "0.011417030065450806\n",
      "0.0012818007803505616\n",
      "0.00011607891186060648\n",
      "8.816258541211042e-06\n",
      "6.035735367060369e-07\n",
      "1.4451715555880196\n",
      "1.20704980935538\n",
      "0.4223751782039007\n",
      "0.07833477366842412\n",
      "0.011650307245264502\n",
      "0.0013107693393152875\n",
      "0.00011897281790518299\n",
      "9.095649528889638e-06\n",
      "6.398439267307765e-07\n"
     ]
    }
   ],
   "source": [
    "#fig, ax = plt.figure(figsize=(8, 8))\n",
    "\n",
    "l2_errors = {\"RK23\": [], \"RK45\": [], \"BDF\": [], \"LSODA\": [], \"Radau\": []}\n",
    "l2_wavelets = []\n",
    "JMAX = 9\n",
    "\n",
    "for J in range(1, JMAX): \n",
    "    y, x = wavelet_solve(J) \n",
    "\n",
    "    yexact = - np.tan(x) \n",
    "\n",
    "    l2_wavelet = L2_error(y, yexact)\n",
    "    l2_wavelets.append(l2_wavelet)\n",
    "    #ax.plot()  \n",
    "\n",
    "    for method in [\"RK23\", \"RK45\", \"BDF\", \"LSODA\", \"Radau\"]:\n",
    "\n",
    "        #integrator_soln = integrate.solve_ivp(_integrator, t_span=[min(x), max(x)], t_eval=x, y0=[0, -1], method=method) # , t_eval=x\n",
    "        integrator_soln = integrate.solve_ivp(_integrator, t_span=[0, 1], y0=[0, -1], method=method)\n",
    "        #print(integrator_soln.t.shape)\n",
    "        y_exactfull = -np.tan(integrator_soln.t)\n",
    "#        err = L2_error(yexact, integrator_soln.y[0, :])\n",
    "        err = L2_error(y_exactfull, integrator_soln.y[0, :])\n",
    "        l2_errors[method].append(err)\n",
    "\n",
    "\n",
    "\n",
    "#plt.legend() \n",
    "#plt.title(\"asdf\")\n",
    "    #plt.plot(x, integrator_soln[:,0])\n",
    "    #plt.plot(x, integrator_soln2.y[0,:])\n"
   ]
  },
  {
   "cell_type": "code",
   "execution_count": 111,
   "metadata": {},
   "outputs": [
    {
     "data": {
      "text/plain": [
       "{'RK23': [0.14879357857660816,\n",
       "  0.08519538057892856,\n",
       "  0.048187044925226054,\n",
       "  0.02674999376190252,\n",
       "  0.013137027688022577],\n",
       " 'RK45': [0.149578757334162,\n",
       "  0.08469501215483421,\n",
       "  0.04683464206431483,\n",
       "  0.025010367209901668,\n",
       "  0.013020456688969654],\n",
       " 'BDF': [0.14142125320786275,\n",
       "  0.07945077975752696,\n",
       "  0.045258240089338965,\n",
       "  0.026582889370157823,\n",
       "  0.014688301418387202],\n",
       " 'LSODA': [0.140175829894863,\n",
       "  0.07672786565975996,\n",
       "  0.04281537953592106,\n",
       "  0.022370373909096016,\n",
       "  0.011777101740468716]}"
      ]
     },
     "execution_count": 111,
     "metadata": {},
     "output_type": "execute_result"
    }
   ],
   "source": [
    "l2_errors"
   ]
  },
  {
   "cell_type": "code",
   "execution_count": 14,
   "metadata": {},
   "outputs": [
    {
     "data": {
      "text/plain": [
       "<matplotlib.legend.Legend at 0x7f9cb6407c40>"
      ]
     },
     "execution_count": 14,
     "metadata": {},
     "output_type": "execute_result"
    },
    {
     "data": {
      "image/png": "[encoded data removed]",
      "text/plain": [
       "<Figure size 800x550 with 1 Axes>"
      ]
     },
     "metadata": {},
     "output_type": "display_data"
    }
   ],
   "source": [
    "plt.plot(range(1, JMAX), l2_wavelets, label=\"Wavelets\")\n",
    "\n",
    "for k, v in l2_errors.items(): \n",
    "    plt.plot(range(1, JMAX), v, label=k)\n",
    "\n",
    "plt.title(rf\"Errors of Methods for Solving\" +\"\\n\" + rf\"$y''(x) = - 2 y(x) y'(x), y(0) = 0, y'(0) = -1$\")\n",
    "plt.yscale(\"log\")\n",
    "plt.xticks(range(1, JMAX))\n",
    "plt.xlabel(\"Level of Refinement J\")\n",
    "plt.ylabel(\"$L^2$ Error\")\n",
    "plt.legend()"
   ]
  },
  {
   "cell_type": "code",
   "execution_count": 6,
   "metadata": {},
   "outputs": [
    {
     "name": "stdout",
     "output_type": "stream",
     "text": [
      "1.4000387775935448\n",
      "0.8985271372922556\n",
      "0.201644122929598\n",
      "0.028773142240514304\n",
      "0.003573683561931551\n",
      "0.00034233788885196237\n",
      "2.898439410015108e-05\n",
      "2.145702828748597e-06\n",
      "1.5074711978702027e-07\n",
      "9.721221605474284e-09\n",
      "6.172070632359805e-10\n"
     ]
    }
   ],
   "source": [
    "# y''(x) = -2 y(x) y'(x), y(0) = 0, y'(0) = -1 NOT A PAPER EXAMPLE! \n",
    "# y(x) = -tan(x) \n",
    "J = 3\n",
    "N = 2**(J + 1) \n",
    "j = np.arange(0, N)\n",
    "x = (j - 0.5) / N\n",
    "\n",
    "alpha1 = 0.\n",
    "beta1 = -1.\n",
    "a1 = beta1 - alpha1 \n",
    "\n",
    "W = np.zeros((N, N)) \n",
    "f = np.zeros((N, )) \n",
    "a = np.zeros((N, ))\n",
    "\n",
    "eps = 1.e-9\n",
    "r = np.ones((N, 1))\n",
    "\n",
    "iter_idx = 0 \n",
    "\n",
    "while max(r) > eps: \n",
    "    #for j in range(N): \n",
    "    #    H = P1 = P2 = 0 \n",
    "    H = np.zeros((N, ))\n",
    "    P1 = np.zeros((N, ))\n",
    "    P2 = np.zeros((N, ))\n",
    "    \n",
    "    for i in range(N): # things should start @ 1\n",
    "        H += a[i] * haar(x, i+1, J) \n",
    "        P1 += a[i] * pi1(x, i+1, J)             \n",
    "        P2 += a[i] * pi2(x, i+1, J) \n",
    "\n",
    "    #print(H.shape, P1.shape, P2.shape)\n",
    "    #print(f.shape)\n",
    "    f = 2 * (alpha1 + beta1 * x + P2) * (beta1 + P1) + H \n",
    "    #print(f.shape)\n",
    "\n",
    "    for k in range(N): \n",
    "        W[:, k] = 2 * pi2(x, k+1, J) * (beta1 + P1) + 2 * (alpha1 + beta1 + x + P2) * pi1(x, k+1, J)  + haar(x, k+1, J) \n",
    "\n",
    "    #print(W.shape, (W@a).shape, f.shape)\n",
    "    a_new = lstsq(W, W@a - f, cond=None)[0]\n",
    "    #print(a_new.shape)\n",
    "    r = np.abs(a_new - a) \n",
    "    #print(r.shape)\n",
    "    print(max(r)) \n",
    "\n",
    "    a = a_new \n",
    "    iter_idx += 1\n",
    "\n",
    "\n",
    "y = np.zeros((N, ))\n",
    "S = np.zeros((N, ))\n",
    "\n",
    "for i in range(N): \n",
    "    S += a[i] * pi2(x, i+1, J)\n",
    "\n",
    "y = alpha1 + x * beta1 + S \n",
    "\n",
    "yexact = - np.tan(x) "
   ]
  },
  {
   "cell_type": "code",
   "execution_count": 82,
   "metadata": {},
   "outputs": [],
   "source": [
    "def _integrator(Y, t): \n",
    "    return [Y[1], -2*Y[0]*Y[1]]\n",
    "def _integrator2(t, Y): \n",
    "    return [Y[1], -2*Y[0]*Y[1]]"
   ]
  },
  {
   "cell_type": "code",
   "execution_count": 63,
   "metadata": {},
   "outputs": [
    {
     "data": {
      "text/plain": [
       "array([-0.03125,  0.03125,  0.09375,  0.15625,  0.21875,  0.28125,\n",
       "        0.34375,  0.40625,  0.46875,  0.53125,  0.59375,  0.65625,\n",
       "        0.71875,  0.78125,  0.84375,  0.90625])"
      ]
     },
     "execution_count": 63,
     "metadata": {},
     "output_type": "execute_result"
    }
   ],
   "source": [
    "x"
   ]
  },
  {
   "cell_type": "code",
   "execution_count": 90,
   "metadata": {},
   "outputs": [
    {
     "data": {
      "text/plain": [
       "[<matplotlib.lines.Line2D at 0x7f59847a9970>]"
      ]
     },
     "execution_count": 90,
     "metadata": {},
     "output_type": "execute_result"
    },
    {
     "data": {
      "image/png": "[encoded data removed]",
      "text/plain": [
       "<Figure size 800x550 with 1 Axes>"
      ]
     },
     "metadata": {},
     "output_type": "display_data"
    }
   ],
   "source": [
    "integrator_soln = integrate.odeint(_integrator, [0, -1], x) # , x\n",
    "integrator_soln2 = integrate.solve_ivp(_integrator2, t_span=[min(x), max(x)], t_eval=x, y0=[0, -1], method='BDF') # , t_eval=x\n",
    "plt.plot(x, integrator_soln[:,0])\n",
    "plt.plot(x, integrator_soln2.y[0,:])\n"
   ]
  },
  {
   "cell_type": "code",
   "execution_count": 4,
   "metadata": {},
   "outputs": [],
   "source": [
    "def L2_error(approx, exact): \n",
    "    return np.sqrt(1 / len(approx) * np.sum((exact-approx)**2)) "
   ]
  },
  {
   "cell_type": "code",
   "execution_count": 7,
   "metadata": {},
   "outputs": [
    {
     "data": {
      "text/plain": [
       "0.0010325950442207131"
      ]
     },
     "execution_count": 7,
     "metadata": {},
     "output_type": "execute_result"
    }
   ],
   "source": [
    "L2_error(y, yexact)"
   ]
  },
  {
   "cell_type": "code",
   "execution_count": 5,
   "metadata": {},
   "outputs": [
    {
     "data": {
      "text/plain": [
       "0.0014132635065390838"
      ]
     },
     "execution_count": 5,
     "metadata": {},
     "output_type": "execute_result"
    }
   ],
   "source": [
    "L2_error(y, yexact)"
   ]
  },
  {
   "cell_type": "code",
   "execution_count": 94,
   "metadata": {},
   "outputs": [
    {
     "data": {
      "text/plain": [
       "(0.007329008528579168, 0.1520280812233726)"
      ]
     },
     "execution_count": 94,
     "metadata": {},
     "output_type": "execute_result"
    }
   ],
   "source": [
    "L2_error(y, yexact), L2_error(y, integrator_soln[:, 0])"
   ]
  },
  {
   "cell_type": "code",
   "execution_count": 91,
   "metadata": {},
   "outputs": [
    {
     "data": {
      "text/plain": [
       "<matplotlib.legend.Legend at 0x7f59848aecd0>"
      ]
     },
     "execution_count": 91,
     "metadata": {},
     "output_type": "execute_result"
    },
    {
     "data": {
      "image/png": "[encoded data removed]",
      "text/plain": [
       "<Figure size 800x550 with 1 Axes>"
      ]
     },
     "metadata": {},
     "output_type": "display_data"
    }
   ],
   "source": [
    "#plt.plot(x, y, marker='.',  markerfacecolor='white', markersize=24, label=\"Wavelet Numerical\")\n",
    "#plt.scatter(x, y, facecolors='none', edgecolors='r', label=\"Wavelet Numerical\")\n",
    "plt.plot(x, y, 'ro', label=\"Wavelet Numerical\")\n",
    "plt.scatter(x, integrator_soln[:,0], facecolors='none', edgecolors='k',  label=\"LSODA Integrator\")\n",
    "plt.scatter(integrator_soln2.t, integrator_soln2.y[0,:],  edgecolors='g', label=\"BDF Integrator\")\n",
    "plt.plot(x, yexact, label=\"Exact\")\n",
    "plt.legend()"
   ]
  },
  {
   "cell_type": "code",
   "execution_count": 15,
   "metadata": {},
   "outputs": [
    {
     "data": {
      "text/plain": [
       "array([[-0.03125],\n",
       "       [ 0.03125],\n",
       "       [ 0.09375],\n",
       "       [ 0.15625],\n",
       "       [ 0.21875],\n",
       "       [ 0.28125],\n",
       "       [ 0.34375],\n",
       "       [ 0.40625],\n",
       "       [ 0.46875],\n",
       "       [ 0.53125],\n",
       "       [ 0.59375],\n",
       "       [ 0.65625],\n",
       "       [ 0.71875],\n",
       "       [ 0.78125],\n",
       "       [ 0.84375],\n",
       "       [ 0.90625]])"
      ]
     },
     "execution_count": 15,
     "metadata": {},
     "output_type": "execute_result"
    }
   ],
   "source": [
    "x.reshape(N, 1)\n"
   ]
  },
  {
   "cell_type": "code",
   "execution_count": 17,
   "metadata": {},
   "outputs": [
    {
     "data": {
      "text/plain": [
       "0.53125"
      ]
     },
     "execution_count": 17,
     "metadata": {},
     "output_type": "execute_result"
    }
   ],
   "source": [
    "x[9]"
   ]
  },
  {
   "cell_type": "code",
   "execution_count": null,
   "metadata": {},
   "outputs": [],
   "source": []
  },
  {
   "cell_type": "code",
   "execution_count": null,
   "metadata": {},
   "outputs": [],
   "source": [
    "y = np.zeros((N, 1)) \n",
    "\n",
    "for j in range(N): \n",
    "    S = 0 \n",
    "    for i in range(N): \n",
    "        S += a[i] * pi2(x[j], i, J) \n",
    "    \n",
    "    y[j] = alpha1 * x[j] * beta1 + S"
   ]
  }
 ],
 "metadata": {
  "kernelspec": {
   "display_name": "wavelets",
   "language": "python",
   "name": "python3"
  },
  "language_info": {
   "codemirror_mode": {
    "name": "ipython",
    "version": 3
   },
   "file_extension": ".py",
   "mimetype": "text/x-python",
   "name": "python",
   "nbconvert_exporter": "python",
   "pygments_lexer": "ipython3",
   "version": "3.10.9"
  },
  "orig_nbformat": 4
 },
 "nbformat": 4,
 "nbformat_minor": 2
}
