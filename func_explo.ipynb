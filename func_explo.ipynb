{
 "cells": [
  {
   "cell_type": "code",
   "execution_count": 28,
   "metadata": {},
   "outputs": [
    {
     "name": "stderr",
     "output_type": "stream",
     "text": [
      "/tmp/ipykernel_168771/2263815618.py:10: MatplotlibDeprecationWarning: The seaborn styles shipped by Matplotlib are deprecated since 3.6, as they no longer correspond to the styles shipped by seaborn. However, they will remain available as 'seaborn-v0_8-<style>'. Alternatively, directly use the seaborn API instead.\n",
      "  mpl.style.use('seaborn')\n"
     ]
    }
   ],
   "source": [
    "import numpy as np \n",
    "\n",
    "from scipy.integrate import solve_ivp\n",
    "\n",
    "import matplotlib as mpl\n",
    "import matplotlib.pyplot as plt \n",
    "\n",
    "from haar import haar as haar1\n",
    "\n",
    "mpl.style.use('seaborn')"
   ]
  },
  {
   "cell_type": "code",
   "execution_count": 49,
   "metadata": {},
   "outputs": [],
   "source": [
    "import numpy as np\n",
    "\n",
    "def haar(x, i, J):\n",
    "    if i == 1:\n",
    "        m = k = 0\n",
    "    else:\n",
    "        IMat = np.zeros([J+1, 2**J])\n",
    "        IMask = np.zeros([J+1, 2**J])\n",
    "\n",
    "        ind_s = 1\n",
    "        for ind_j in range(J+1):\n",
    "            for ind_i in range(2**ind_j):\n",
    "                ind_s += 1\n",
    "                IMask[ind_j, ind_i] = ind_s\n",
    "                IMat[ind_j, ind_i] = ind_i+ind_j+1\n",
    "\n",
    "        ind_j, ind_i = np.where(IMask == i)\n",
    "        m = 2**ind_j\n",
    "        k = ind_i\n",
    "\n",
    "    #y = np.zeros([1, len(x)])\n",
    "    y = np.zeros([len(x), 1])\n",
    "\n",
    "\n",
    "    if i == 1:\n",
    "        for j in range(len(x)):\n",
    "            if 0 <= x[j] < 1:\n",
    "                y[j, 0] = 1 \n",
    "                #y[0, j] = 1\n",
    "            else:\n",
    "                y[j, 0] = 0\n",
    "                #y[0, j] = 0\n",
    "    else:\n",
    "        alpha = k / m\n",
    "        beta = (k + 0.5) / m\n",
    "        gamma = (k + 1) / m\n",
    "        print(f'a: {alpha}\\n')\n",
    "        print(f'b: {beta}\\n')\n",
    "        print(f'g: {gamma}\\n')\n",
    "        for j in range(len(x)):\n",
    "            if alpha <= x[j] < beta:\n",
    "                y[j, 0] = 1 \n",
    "                #y[0, j] = 1\n",
    "            elif beta <= x[j] < gamma:\n",
    "                y[j, 0] = -1\n",
    "                #y[0, j] = -1\n",
    "            else:\n",
    "                y[j, 0] = 0\n",
    "                #y[0, j] = 0\n",
    "\n",
    "    return y"
   ]
  },
  {
   "cell_type": "code",
   "execution_count": 4,
   "metadata": {},
   "outputs": [],
   "source": [
    "def pi1(x, i, J): \n",
    "    if i == 1: \n",
    "        m = k = 0\n",
    "    else: \n",
    "        IMat = np.zeros([J+1, 2**J])\n",
    "        IMask = np.zeros([J+1, 2**J])\n",
    "\n",
    "        ind_s = 1 \n",
    "\n",
    "        for ind_j in range(J+1): \n",
    "            for ind_i in range(2**ind_j):\n",
    "                ind_s +=1 \n",
    "                IMask[ind_j, ind_i] = ind_s\n",
    "                IMat[ind_j, ind_i] = ind_i + ind_j+1\n",
    "\n",
    "        m, k = np.where(IMask == i) \n",
    "        m = 2**m \n",
    "\n",
    "    y = np.zeros([1, len(x)])\n",
    "\n",
    "    if i == 1: \n",
    "        for i in range(len(x)): \n",
    "            if 0 <= x[i] < 1: \n",
    "                y[0, i] = x[i]\n",
    "            else: \n",
    "                y[0, i] = 0 \n",
    "\n",
    "    else: \n",
    "        alpha = k/m\n",
    "        beta  = (k+0.5)/m \n",
    "        gamma = (k+1)/m\n",
    "\n",
    "        for i in range(len(x)): \n",
    "            if alpha <= x[i] < beta: \n",
    "                y[0, i] = x[i] - alpha \n",
    "            elif beta <= x[i] < gamma: \n",
    "                y[0, i] = gamma - x[i]\n",
    "            else: \n",
    "                y[0, i] = 0 \n",
    "\n",
    "    return y"
   ]
  },
  {
   "cell_type": "code",
   "execution_count": 5,
   "metadata": {},
   "outputs": [],
   "source": [
    "def pi2(x, i, J): \n",
    "    if i == 1: \n",
    "        m = k = 0\n",
    "    else: \n",
    "        IMat = np.zeros([J+1, 2**J])\n",
    "        IMask = np.zeros([J+1, 2**J])\n",
    "\n",
    "        ind_s = 1\n",
    "\n",
    "        for ind_j in range(J+1): \n",
    "            for ind_i in range(2**ind_j): \n",
    "                ind_s += 1 \n",
    "                IMask[ind_j, ind_i] = ind_s\n",
    "                IMat[ind_j, ind_i] = ind_i + ind_j + 1 \n",
    "\n",
    "        m, k = np.where(IMask == i) \n",
    "        m = 2**m \n",
    "\n",
    "\n",
    "    y = np.zeros([1, len(x)])\n",
    "\n",
    "    if i == 1: \n",
    "        for i in range(len(x)): \n",
    "            if 0 <= x[i] < 1: \n",
    "                y[0, i] = 0.5 * x[i]**2 \n",
    "            else: \n",
    "                y[0, i] = 0 \n",
    "    else: \n",
    "        alpha = k/m\n",
    "        beta  = (k+0.5)/m \n",
    "        gamma = (k+1)/m\n",
    "\n",
    "        for i in range(len(x)): \n",
    "            if alpha <= x[i] < beta: \n",
    "                y[0, i] = 0.5 * (x[i] - alpha)**2 \n",
    "            elif beta <= x[i] < gamma: \n",
    "                y[0, i] = 1 / (4 * m**2) - 0.5 * (gamma - x[i]) ** 2 \n",
    "            elif gamma <= x[i] < 1 : \n",
    "                y[0, i] = 1 / (4 * m**2) \n",
    "            else: \n",
    "                y[0, i] = 0\n",
    "\n",
    "\n",
    "    return y "
   ]
  },
  {
   "cell_type": "code",
   "execution_count": 56,
   "metadata": {},
   "outputs": [],
   "source": [
    "def haar(x, i, J):\n",
    "    if i == 1:\n",
    "        m = k = 0\n",
    "    else:\n",
    "        IMat = np.zeros([J+1, 2**J])\n",
    "        IMask = np.zeros([J+1, 2**J])\n",
    "\n",
    "        ind_s = 1\n",
    "        for ind_j in range(J+1):\n",
    "            for ind_i in range(2**ind_j):\n",
    "                ind_s += 1\n",
    "                IMask[ind_j, ind_i] = ind_s\n",
    "                IMat[ind_j, ind_i] = ind_i+ind_j+1\n",
    "\n",
    "        ind_j, ind_i = np.where(IMask == i)\n",
    "        m = 2**ind_j\n",
    "        k = ind_i\n",
    "\n",
    "    \n",
    "    #y = np.zeros([1, len(x)])\n",
    "    y = np.zeros((len(x), ))\n",
    "    \n",
    "\n",
    "    # TODO: vectorize setting these \n",
    "    if i == 1:\n",
    "        for j in range(len(x)):\n",
    "            if 0 <= x[j] < 1:\n",
    "                y[j] = 1\n",
    "                #y[j, 0] = 1\n",
    "                #y[0, j] = 1\n",
    "            else:\n",
    "                y[j] = 0\n",
    "                #y[j, 0] = 0\n",
    "                #y[0, j] = 0\n",
    "    else:\n",
    "        alpha = k / m\n",
    "        beta = (k + 0.5) / m\n",
    "        gamma = (k + 1) / m\n",
    "\n",
    "        for j in range(len(x)):\n",
    "            if alpha <= x[j] < beta:\n",
    "                y[j] = 1\n",
    "                #y[j, 0] = 1\n",
    "                #y[0, j] = 1\n",
    "            elif beta <= x[j] < gamma:\n",
    "                y[j] = -1\n",
    "                #y[j, 0] = -1\n",
    "                #y[0, j] = -1\n",
    "            else:\n",
    "                y[j] = 0\n",
    "                #y[j, 0] = 0\n",
    "                #y[0, j] = 0\n",
    "\n",
    "    return y #, m, k"
   ]
  },
  {
   "cell_type": "code",
   "execution_count": 50,
   "metadata": {},
   "outputs": [
    {
     "data": {
      "text/plain": [
       "(1, 16)"
      ]
     },
     "execution_count": 50,
     "metadata": {},
     "output_type": "execute_result"
    }
   ],
   "source": [
    "J = 3 \n",
    "N = 2**(J + 1) \n",
    "j = np.arange(0, N)\n",
    "x = (j - 0.5) / N\n",
    "\n",
    "haar1(x, 1, J).shape"
   ]
  },
  {
   "cell_type": "code",
   "execution_count": 42,
   "metadata": {},
   "outputs": [
    {
     "data": {
      "text/plain": [
       "(16,)"
      ]
     },
     "execution_count": 42,
     "metadata": {},
     "output_type": "execute_result"
    }
   ],
   "source": [
    "x.shape"
   ]
  },
  {
   "cell_type": "code",
   "execution_count": 57,
   "metadata": {},
   "outputs": [
    {
     "data": {
      "text/plain": [
       "(16,)"
      ]
     },
     "execution_count": 57,
     "metadata": {},
     "output_type": "execute_result"
    }
   ],
   "source": [
    "J = 3 \n",
    "N = 2**(J + 1) \n",
    "j = np.arange(0, N)\n",
    "x = (j - 0.5) / N\n",
    "\n",
    "haar(x, 3, J).shape"
   ]
  },
  {
   "cell_type": "code",
   "execution_count": 6,
   "metadata": {},
   "outputs": [
    {
     "data": {
      "text/plain": [
       "[<matplotlib.lines.Line2D at 0x7fb852d22be0>]"
      ]
     },
     "execution_count": 6,
     "metadata": {},
     "output_type": "execute_result"
    },
    {
     "data": {
      "image/png": "[encoded data removed]",
      "text/plain": [
       "<Figure size 800x550 with 1 Axes>"
      ]
     },
     "metadata": {},
     "output_type": "display_data"
    }
   ],
   "source": [
    "x = np.linspace(0, 1, 32)\n",
    "J = 3 \n",
    "i = 2\n",
    "\n",
    "y = pi2(x, i, J)\n",
    "\n",
    "plt.plot(x, y.ravel())"
   ]
  },
  {
   "cell_type": "code",
   "execution_count": 22,
   "metadata": {},
   "outputs": [
    {
     "name": "stdout",
     "output_type": "stream",
     "text": [
      "[0.] [0.5] [1.]\n"
     ]
    },
    {
     "ename": "ValueError",
     "evalue": "The truth value of an array with more than one element is ambiguous. Use a.any() or a.all()",
     "output_type": "error",
     "traceback": [
      "\u001b[0;31m---------------------------------------------------------------------------\u001b[0m",
      "\u001b[0;31mValueError\u001b[0m                                Traceback (most recent call last)",
      "Cell \u001b[0;32mIn[22], line 5\u001b[0m\n\u001b[1;32m      2\u001b[0m J \u001b[39m=\u001b[39m \u001b[39m3\u001b[39m \n\u001b[1;32m      3\u001b[0m i \u001b[39m=\u001b[39m \u001b[39m2\u001b[39m\n\u001b[0;32m----> 5\u001b[0m y \u001b[39m=\u001b[39m haar(x, i, J)\n\u001b[1;32m      7\u001b[0m plt\u001b[39m.\u001b[39mplot(x, y\u001b[39m.\u001b[39mravel())\n",
      "Cell \u001b[0;32mIn[18], line 36\u001b[0m, in \u001b[0;36mhaar\u001b[0;34m(x, i, J)\u001b[0m\n\u001b[1;32m     33\u001b[0m \u001b[39mprint\u001b[39m(alpha, beta, gamma)\n\u001b[1;32m     35\u001b[0m \u001b[39m#for i in range(len(x)): \u001b[39;00m\n\u001b[0;32m---> 36\u001b[0m \u001b[39mif\u001b[39;00m alpha \u001b[39m<\u001b[39m\u001b[39m=\u001b[39m x \u001b[39m<\u001b[39m beta: \n\u001b[1;32m     37\u001b[0m     y \u001b[39m=\u001b[39m \u001b[39m1\u001b[39m \n\u001b[1;32m     38\u001b[0m \u001b[39melif\u001b[39;00m beta \u001b[39m<\u001b[39m\u001b[39m=\u001b[39m x \u001b[39m<\u001b[39m gamma: \n",
      "\u001b[0;31mValueError\u001b[0m: The truth value of an array with more than one element is ambiguous. Use a.any() or a.all()"
     ]
    }
   ],
   "source": [
    "x = np.linspace(0, 1, 32)\n",
    "J = 3 \n",
    "i = 2\n",
    "\n",
    "y = haar(x, i, J)\n",
    "\n",
    "plt.plot(x, y.ravel())"
   ]
  },
  {
   "cell_type": "code",
   "execution_count": 20,
   "metadata": {},
   "outputs": [
    {
     "data": {
      "text/plain": [
       "array([0.        , 0.03225806, 0.06451613, 0.09677419, 0.12903226,\n",
       "       0.16129032, 0.19354839, 0.22580645, 0.25806452, 0.29032258,\n",
       "       0.32258065, 0.35483871, 0.38709677, 0.41935484, 0.4516129 ,\n",
       "       0.48387097, 0.51612903, 0.5483871 , 0.58064516, 0.61290323,\n",
       "       0.64516129, 0.67741935, 0.70967742, 0.74193548, 0.77419355,\n",
       "       0.80645161, 0.83870968, 0.87096774, 0.90322581, 0.93548387,\n",
       "       0.96774194, 0.        ])"
      ]
     },
     "execution_count": 20,
     "metadata": {},
     "output_type": "execute_result"
    }
   ],
   "source": [
    "y.ravel()"
   ]
  },
  {
   "cell_type": "code",
   "execution_count": 23,
   "metadata": {},
   "outputs": [
    {
     "data": {
      "text/plain": [
       "[<matplotlib.lines.Line2D at 0x7fb85098b0a0>]"
      ]
     },
     "execution_count": 23,
     "metadata": {},
     "output_type": "execute_result"
    },
    {
     "data": {
      "image/png": "[encoded data removed]",
      "text/plain": [
       "<Figure size 800x550 with 1 Axes>"
      ]
     },
     "metadata": {},
     "output_type": "display_data"
    }
   ],
   "source": [
    "x = np.linspace(0, 1, 32)\n",
    "J = 3 \n",
    "i = 2\n",
    "\n",
    "y = pi1(x, i, J)\n",
    "\n",
    "plt.plot(x, y.ravel())"
   ]
  },
  {
   "cell_type": "code",
   "execution_count": 10,
   "metadata": {},
   "outputs": [
    {
     "data": {
      "text/plain": [
       "[<matplotlib.lines.Line2D at 0x7fb852b7e1c0>]"
      ]
     },
     "execution_count": 10,
     "metadata": {},
     "output_type": "execute_result"
    },
    {
     "data": {
      "image/png": "[encoded data removed]",
      "text/plain": [
       "<Figure size 800x550 with 1 Axes>"
      ]
     },
     "metadata": {},
     "output_type": "display_data"
    }
   ],
   "source": [
    "x = np.linspace(0, 1, 32)\n",
    "J = 4 \n",
    "i = 1\n",
    "\n",
    "y = pi1(x, i, J)\n",
    "\n",
    "plt.plot(x, y.ravel())"
   ]
  },
  {
   "cell_type": "code",
   "execution_count": 11,
   "metadata": {},
   "outputs": [
    {
     "data": {
      "text/plain": [
       "array([[0.5]])"
      ]
     },
     "execution_count": 11,
     "metadata": {},
     "output_type": "execute_result"
    }
   ],
   "source": [
    "pi1([0.5], 1, 3)"
   ]
  },
  {
   "cell_type": "code",
   "execution_count": 12,
   "metadata": {},
   "outputs": [
    {
     "data": {
      "text/plain": [
       "array([[0.01]])"
      ]
     },
     "execution_count": 12,
     "metadata": {},
     "output_type": "execute_result"
    }
   ],
   "source": [
    "pi1([0.99], 2, 6)"
   ]
  },
  {
   "cell_type": "code",
   "execution_count": 13,
   "metadata": {},
   "outputs": [
    {
     "data": {
      "text/plain": [
       "array([[0., 0., 0., 0., 0.]])"
      ]
     },
     "execution_count": 13,
     "metadata": {},
     "output_type": "execute_result"
    }
   ],
   "source": [
    "pi1([0.1, 0.25, 0.5, 0.75, 0.9], 6, 4)"
   ]
  },
  {
   "cell_type": "code",
   "execution_count": 14,
   "metadata": {},
   "outputs": [
    {
     "name": "stdout",
     "output_type": "stream",
     "text": [
      "a: [0.]\n",
      "\n",
      "b: [0.5]\n",
      "\n",
      "g: [1.]\n",
      "\n"
     ]
    },
    {
     "data": {
      "text/plain": [
       "array([[-1.]])"
      ]
     },
     "execution_count": 14,
     "metadata": {},
     "output_type": "execute_result"
    }
   ],
   "source": [
    "haar([0.99], 2, 6) # + "
   ]
  },
  {
   "cell_type": "code",
   "execution_count": 15,
   "metadata": {},
   "outputs": [
    {
     "data": {
      "text/plain": [
       "array([[1.]])"
      ]
     },
     "execution_count": 15,
     "metadata": {},
     "output_type": "execute_result"
    }
   ],
   "source": [
    "haar([0.5], 1, 3) # + "
   ]
  },
  {
   "cell_type": "code",
   "execution_count": 16,
   "metadata": {},
   "outputs": [
    {
     "name": "stdout",
     "output_type": "stream",
     "text": [
      "a: [0.25]\n",
      "\n",
      "b: [0.375]\n",
      "\n",
      "g: [0.5]\n",
      "\n"
     ]
    },
    {
     "data": {
      "text/plain": [
       "array([[0.]])"
      ]
     },
     "execution_count": 16,
     "metadata": {},
     "output_type": "execute_result"
    }
   ],
   "source": [
    "haar([0.1], 6, 4)"
   ]
  },
  {
   "cell_type": "code",
   "execution_count": 17,
   "metadata": {},
   "outputs": [
    {
     "name": "stdout",
     "output_type": "stream",
     "text": [
      "a: [0.25]\n",
      "\n",
      "b: [0.375]\n",
      "\n",
      "g: [0.5]\n",
      "\n"
     ]
    },
    {
     "data": {
      "text/plain": [
       "array([[0., 1., 0., 0., 0.]])"
      ]
     },
     "execution_count": 17,
     "metadata": {},
     "output_type": "execute_result"
    }
   ],
   "source": [
    "haar([0.1, 0.25, 0.5, 0.75, 0.9], 6, 4)"
   ]
  },
  {
   "cell_type": "code",
   "execution_count": null,
   "metadata": {},
   "outputs": [],
   "source": []
  },
  {
   "cell_type": "code",
   "execution_count": 18,
   "metadata": {},
   "outputs": [],
   "source": [
    "def haar(x, i, J): \n",
    "    if i == 1:  \n",
    "        m = k = 0 \n",
    "    else: \n",
    "        IMat = np.zeros((J+1, 2**J))\n",
    "        IMask = IMat \n",
    "\n",
    "        ind_s = 1\n",
    "        for ind_j in range(0, J): \n",
    "            for ind_i in range(0, 2**ind_j): \n",
    "                ind_s += 1\n",
    "                IMask[ind_j, ind_i] = ind_s \n",
    "                IMat[ind_j, ind_i] = ind_i + ind_j + 1 \n",
    "\n",
    "        (ind_j, ind_i) = np.where(IMask == i)\n",
    "        m = 2**(ind_j - 1) \n",
    "        k = ind_i \n",
    "\n",
    "    y = 0\n",
    "\n",
    "    if i == 1: \n",
    "        #for i in range(len(x)): \n",
    "        if 0 <= x < 1: \n",
    "            y = 1 \n",
    "        else: \n",
    "            y = 0 \n",
    "\n",
    "    else: \n",
    "        alpha = k / m \n",
    "        beta = (k + 0.5) / m \n",
    "        gamma = (k + 1) / m \n",
    "\n",
    "        print(alpha, beta, gamma)\n",
    "\n",
    "        #for i in range(len(x)): \n",
    "        if alpha <= x < beta: \n",
    "            y = 1 \n",
    "        elif beta <= x < gamma: \n",
    "            y = -1\n",
    "        else: \n",
    "            y = 0 \n",
    "\n",
    "    return y,m,k\n",
    "    "
   ]
  },
  {
   "cell_type": "code",
   "execution_count": 19,
   "metadata": {},
   "outputs": [
    {
     "name": "stdout",
     "output_type": "stream",
     "text": [
      "[1.5 0.5] [1.75  0.625] [2.   0.75]\n"
     ]
    },
    {
     "ename": "ValueError",
     "evalue": "operands could not be broadcast together with shapes (2,) (5,) ",
     "output_type": "error",
     "traceback": [
      "\u001b[0;31m---------------------------------------------------------------------------\u001b[0m",
      "\u001b[0;31mValueError\u001b[0m                                Traceback (most recent call last)",
      "Cell \u001b[0;32mIn[19], line 1\u001b[0m\n\u001b[0;32m----> 1\u001b[0m haar([\u001b[39m0.1\u001b[39;49m, \u001b[39m0.25\u001b[39;49m, \u001b[39m0.5\u001b[39;49m, \u001b[39m0.75\u001b[39;49m, \u001b[39m0.9\u001b[39;49m], \u001b[39m6\u001b[39;49m, \u001b[39m4\u001b[39;49m)\n",
      "Cell \u001b[0;32mIn[18], line 36\u001b[0m, in \u001b[0;36mhaar\u001b[0;34m(x, i, J)\u001b[0m\n\u001b[1;32m     33\u001b[0m \u001b[39mprint\u001b[39m(alpha, beta, gamma)\n\u001b[1;32m     35\u001b[0m \u001b[39m#for i in range(len(x)): \u001b[39;00m\n\u001b[0;32m---> 36\u001b[0m \u001b[39mif\u001b[39;00m alpha \u001b[39m<\u001b[39m\u001b[39m=\u001b[39m x \u001b[39m<\u001b[39m beta: \n\u001b[1;32m     37\u001b[0m     y \u001b[39m=\u001b[39m \u001b[39m1\u001b[39m \n\u001b[1;32m     38\u001b[0m \u001b[39melif\u001b[39;00m beta \u001b[39m<\u001b[39m\u001b[39m=\u001b[39m x \u001b[39m<\u001b[39m gamma: \n",
      "\u001b[0;31mValueError\u001b[0m: operands could not be broadcast together with shapes (2,) (5,) "
     ]
    }
   ],
   "source": [
    "haar([0.1, 0.25, 0.5, 0.75, 0.9], 6, 4)"
   ]
  },
  {
   "cell_type": "code",
   "execution_count": null,
   "metadata": {},
   "outputs": [],
   "source": [
    "J = 3 \n",
    "N = 2**(J + 1) \n",
    "j = np.arange(0, N)\n",
    "x = (j - 0.5) / N\n",
    "\n",
    "alpha1 = 0.\n",
    "beta1 = -1.\n",
    "a1 = beta1 - alpha1 \n",
    "\n",
    "W =  np.zeros((N, N)) \n",
    "f = np.zeros((N, 1)) \n",
    "a = np.zeros((N, 1))\n",
    "\n",
    "eps = 1.e-4\n",
    "r = np.ones((N, 1))\n",
    "\n",
    "iter_idx = 0 \n",
    "\n",
    "while max(r) > eps: \n",
    "    for j in range(N): \n",
    "        H = P1 = P2 = 0 \n",
    "        for i in range(N): \n",
    "            H += a[i] * haar\n",
    "            "
   ]
  },
  {
   "cell_type": "code",
   "execution_count": null,
   "metadata": {},
   "outputs": [
    {
     "data": {
      "text/plain": [
       "array([ 0,  1,  2,  3,  4,  5,  6,  7,  8,  9, 10, 11, 12, 13, 14, 15])"
      ]
     },
     "execution_count": 6,
     "metadata": {},
     "output_type": "execute_result"
    }
   ],
   "source": []
  }
 ],
 "metadata": {
  "kernelspec": {
   "display_name": "wavelets",
   "language": "python",
   "name": "python3"
  },
  "language_info": {
   "codemirror_mode": {
    "name": "ipython",
    "version": 3
   },
   "file_extension": ".py",
   "mimetype": "text/x-python",
   "name": "python",
   "nbconvert_exporter": "python",
   "pygments_lexer": "ipython3",
   "version": "3.9.16"
  },
  "orig_nbformat": 4
 },
 "nbformat": 4,
 "nbformat_minor": 2
}
