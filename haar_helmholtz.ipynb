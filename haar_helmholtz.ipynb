{
 "cells": [
  {
   "cell_type": "code",
   "execution_count": 1,
   "metadata": {},
   "outputs": [
    {
     "name": "stderr",
     "output_type": "stream",
     "text": [
      "/tmp/ipykernel_180684/4081672244.py:13: MatplotlibDeprecationWarning: The seaborn styles shipped by Matplotlib are deprecated since 3.6, as they no longer correspond to the styles shipped by seaborn. However, they will remain available as 'seaborn-v0_8-<style>'. Alternatively, directly use the seaborn API instead.\n",
      "  mpl.style.use('seaborn')\n"
     ]
    }
   ],
   "source": [
    "from haar import haar\n",
    "from pi2 import pi2 \n",
    "from pi1 import pi1\n",
    "\n",
    "import numpy as np \n",
    "\n",
    "from scipy import integrate\n",
    "from scipy.linalg import lstsq\n",
    "\n",
    "import matplotlib as mpl\n",
    "import matplotlib.pyplot as plt \n",
    "\n",
    "mpl.style.use('seaborn')"
   ]
  },
  {
   "cell_type": "code",
   "execution_count": null,
   "metadata": {},
   "outputs": [],
   "source": [
    "# -u''(x) + u(x) = 1, y(0) = 0, y(1) = 0 \n",
    "# known analytical solution + can do with ODE solver... \n",
    "# u''(x) = - (1 - u(x))\n",
    "# https://docs.scipy.org/doc/scipy/reference/generated/scipy.integrate.solve_bvp.html\n",
    "\n",
    "J = 3 \n",
    "N = 2**(J + 1) \n",
    "j = np.arange(0, N)\n",
    "x = (j - 0.5) / N\n",
    "\n",
    "alpha1 = 0.\n",
    "beta1 = 0.\n",
    "a1 = beta1 - alpha1 \n",
    "\n",
    "W = np.zeros((N, N)) \n",
    "f = np.zeros((N, )) \n",
    "a = np.zeros((N, ))\n",
    "\n",
    "eps = 1.e-9\n",
    "r = np.ones((N, 1))\n",
    "\n",
    "iter_idx = 0 \n",
    "\n",
    "while max(r) > eps: \n",
    "    #for j in range(N): \n",
    "    #    H = P1 = P2 = 0 \n",
    "    H = np.zeros((N, ))\n",
    "    P1 = np.zeros((N, ))\n",
    "    P2 = np.zeros((N, ))\n",
    "    \n",
    "    for i in range(N): # things should start @ 1\n",
    "        H += a[i] * haar(x, i+1, J) \n",
    "        P1 += a[i] * pi1(x, i+1, J)             \n",
    "        P2 += a[i] * pi2(x, i+1, J) \n",
    "\n",
    "    f = - (1 - "
   ]
  }
 ],
 "metadata": {
  "kernelspec": {
   "display_name": "wavelets",
   "language": "python",
   "name": "python3"
  },
  "language_info": {
   "codemirror_mode": {
    "name": "ipython",
    "version": 3
   },
   "file_extension": ".py",
   "mimetype": "text/x-python",
   "name": "python",
   "nbconvert_exporter": "python",
   "pygments_lexer": "ipython3",
   "version": "3.9.16"
  },
  "orig_nbformat": 4
 },
 "nbformat": 4,
 "nbformat_minor": 2
}
